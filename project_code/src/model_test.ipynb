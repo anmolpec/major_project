{
 "cells": [
  {
   "cell_type": "code",
   "execution_count": 2,
   "metadata": {},
   "outputs": [],
   "source": [
    "import tensorflow as tf\n",
    "import numpy as np"
   ]
  },
  {
   "cell_type": "code",
   "execution_count": 3,
   "metadata": {},
   "outputs": [],
   "source": [
    "from tensorflow.keras.layers import Conv1D, MaxPool1D, LSTM, Dense, MultiHeadAttention, LayerNormalization, Flatten"
   ]
  },
  {
   "cell_type": "code",
   "execution_count": 4,
   "metadata": {},
   "outputs": [],
   "source": [
    "class ResNetToTransformer(tf.keras.layers.Layer):\n",
    "    def __init__(self, **kwargs):\n",
    "        super().__init__(**kwargs)\n",
    "        self.resnet = ResNet1D()\n",
    "        self.transformer_layer_1 = TransformerMini()\n",
    "        self.flatten = Flatten()\n",
    "        self.fc2 = Dense(1, activation = 'sigmoid')\n",
    "        \n",
    "        l = []\n",
    "\n",
    "        for i in range(154):\n",
    "            tl = []\n",
    "            for j in range(128):\n",
    "                tl.append(np.sin((i + 1) / np.power(10000, 2*j / 256)))\n",
    "                tl.append(np.cos((i + 1) / np.power(10000, 2*j / 256)))\n",
    "\n",
    "            l.append(tl)\n",
    "        \n",
    "        self.pos_enc = tf.constant(np.array(l), dtype = tf.float32)\n",
    "\n",
    "    \n",
    "\n",
    "    def call(self, x):\n",
    "        out1 = self.transformer_layer_1(self.resnet(x) + self.pos_enc)\n",
    "        out2 = self.flatten(out1)\n",
    "        return self.fc2(out2)\n",
    "\n",
    "\n",
    "class TransformerMini(tf.keras.layers.Layer):\n",
    "    def __init__(self, **kwargs):\n",
    "        super().__init__(**kwargs)\n",
    "        self.transformer_layer_1 = TransformerLayer(256, 256)\n",
    "        self.transformer_layer_2 = TransformerLayer(256, 256)\n",
    "\n",
    "    def call(self, x):\n",
    "        return self.transformer_layer_2(self.transformer_layer_1(x))\n",
    "\n",
    "\n",
    "\n",
    "class TransformerLayer(tf.keras.layers.Layer):\n",
    "    def __init__(self, key_dim, value_dim, **kwargs):\n",
    "        super().__init__(**kwargs)\n",
    "        self.MHA = MultiHeadAttention(num_heads = 8, key_dim = key_dim, value_dim = value_dim)\n",
    "        self.layer_norm_1 = LayerNormalization()\n",
    "        self.w1 = tf.Variable(np.random.rand(256, 1024), dtype = tf.float32)\n",
    "        self.b1 = tf.Variable(np.random.rand(1, 1024), dtype = tf.float32)\n",
    "        self.relu = tf.nn.relu\n",
    "        self.w2 = tf.Variable(np.random.rand(1024, 256), dtype = tf.float32)\n",
    "        self.b2 = tf.Variable(np.random.rand(1, 256), dtype = tf.float32)\n",
    "        self.layer_norm_2 = LayerNormalization()\n",
    "\n",
    "    def call(self, x):\n",
    "        mha_out = self.MHA(x, x, x)\n",
    "        norm_out = self.layer_norm_1(x + mha_out)\n",
    "        relu_out = self.relu(norm_out@self.w1 + self.b1)\n",
    "        ff_out = relu_out@self.w2 + self.b2\n",
    "        norm_out2 = self.layer_norm_2(norm_out + ff_out)\n",
    "        return norm_out2\n",
    "\n",
    "\n",
    "\n",
    "\n",
    "class ResNet1D(tf.keras.layers.Layer):\n",
    "    def __init__(self, **kwargs):\n",
    "        super().__init__(**kwargs)\n",
    "        self.conv_pre = ResNetPreLayer(300, 64)\n",
    "        self.conv1 = ResNetLayer1D(64, 128)\n",
    "        self.conv2 = ResNetLayer1D(128, 256)\n",
    "        self.conv3 = ResNetLayer1D(256, 256)\n",
    "\n",
    "    def call(self, x):\n",
    "        return self.conv3(self.conv2(self.conv1(self.conv_pre(x))))\n",
    "\n",
    "\n",
    "class ResNetPreLayer(tf.keras.layers.Layer):\n",
    "    def __init__(self, in_dim, out_dim, **kwargs):\n",
    "        super().__init__(**kwargs)\n",
    "        self.conv = Conv1D(out_dim, 5, activation = 'relu', input_shape = (None, in_dim), padding = 'same')\n",
    "        self.max_pool = MaxPool1D(pool_size = 2, strides = 2)\n",
    "        self.layer_norm = LayerNormalization()\n",
    "    \n",
    "    def call(self, x):\n",
    "        return self.layer_norm(self.max_pool(self.conv(x)))\n",
    "\n",
    "\n",
    "class ResNetLayer1D(tf.keras.layers.Layer):\n",
    "    def __init__(self, in_dim, out_dim, **kwargs):\n",
    "        super().__init__(**kwargs)\n",
    "        self.layer1 = Conv1D(in_dim, 3, input_shape = (None, in_dim), padding = 'same')\n",
    "        self.layer_norm_1 = LayerNormalization()\n",
    "        self.relu = tf.nn.relu\n",
    "        self.layer2 = Conv1D(out_dim, 3, input_shape = (None, in_dim), padding  = 'same')\n",
    "        self.layer_norm_2 = LayerNormalization()\n",
    "        if in_dim == out_dim:\n",
    "            self.block = tf.constant(np.eye(in_dim, out_dim), dtype = tf.float32)\n",
    "        else:\n",
    "            self.block = tf.Variable(np.random.rand(in_dim, out_dim), dtype = tf.float32)\n",
    "\n",
    "    def call(self, x):\n",
    "        out1 = self.layer1(x)\n",
    "        out2 = self.relu(self.layer_norm_1(out1))\n",
    "        out3 = self.layer2(out2)\n",
    "        return self.layer_norm_2(out3 + x @ self.block)"
   ]
  },
  {
   "cell_type": "code",
   "execution_count": 5,
   "metadata": {},
   "outputs": [
    {
     "name": "stderr",
     "output_type": "stream",
     "text": [
      "2022-12-19 11:11:40.753708: I tensorflow/stream_executor/cuda/cuda_gpu_executor.cc:966] could not open file to read NUMA node: /sys/bus/pci/devices/0000:01:00.0/numa_node\n",
      "Your kernel may have been built without NUMA support.\n",
      "2022-12-19 11:11:41.910086: I tensorflow/stream_executor/cuda/cuda_gpu_executor.cc:966] could not open file to read NUMA node: /sys/bus/pci/devices/0000:01:00.0/numa_node\n",
      "Your kernel may have been built without NUMA support.\n",
      "2022-12-19 11:11:41.911209: I tensorflow/stream_executor/cuda/cuda_gpu_executor.cc:966] could not open file to read NUMA node: /sys/bus/pci/devices/0000:01:00.0/numa_node\n",
      "Your kernel may have been built without NUMA support.\n",
      "2022-12-19 11:11:41.923673: I tensorflow/core/platform/cpu_feature_guard.cc:193] This TensorFlow binary is optimized with oneAPI Deep Neural Network Library (oneDNN) to use the following CPU instructions in performance-critical operations:  AVX2 FMA\n",
      "To enable them in other operations, rebuild TensorFlow with the appropriate compiler flags.\n",
      "2022-12-19 11:11:41.925810: I tensorflow/stream_executor/cuda/cuda_gpu_executor.cc:966] could not open file to read NUMA node: /sys/bus/pci/devices/0000:01:00.0/numa_node\n",
      "Your kernel may have been built without NUMA support.\n",
      "2022-12-19 11:11:41.927052: I tensorflow/stream_executor/cuda/cuda_gpu_executor.cc:966] could not open file to read NUMA node: /sys/bus/pci/devices/0000:01:00.0/numa_node\n",
      "Your kernel may have been built without NUMA support.\n",
      "2022-12-19 11:11:41.927840: I tensorflow/stream_executor/cuda/cuda_gpu_executor.cc:966] could not open file to read NUMA node: /sys/bus/pci/devices/0000:01:00.0/numa_node\n",
      "Your kernel may have been built without NUMA support.\n",
      "2022-12-19 11:11:49.123059: I tensorflow/stream_executor/cuda/cuda_gpu_executor.cc:966] could not open file to read NUMA node: /sys/bus/pci/devices/0000:01:00.0/numa_node\n",
      "Your kernel may have been built without NUMA support.\n",
      "2022-12-19 11:11:49.143613: I tensorflow/stream_executor/cuda/cuda_gpu_executor.cc:966] could not open file to read NUMA node: /sys/bus/pci/devices/0000:01:00.0/numa_node\n",
      "Your kernel may have been built without NUMA support.\n",
      "2022-12-19 11:11:49.143647: I tensorflow/core/common_runtime/gpu/gpu_device.cc:1700] Could not identify NUMA node of platform GPU id 0, defaulting to 0.  Your kernel may not have been built with NUMA support.\n",
      "2022-12-19 11:11:49.144486: I tensorflow/stream_executor/cuda/cuda_gpu_executor.cc:966] could not open file to read NUMA node: /sys/bus/pci/devices/0000:01:00.0/numa_node\n",
      "Your kernel may have been built without NUMA support.\n",
      "2022-12-19 11:11:49.144766: I tensorflow/core/common_runtime/gpu/gpu_device.cc:1616] Created device /job:localhost/replica:0/task:0/device:GPU:0 with 2097 MB memory:  -> device: 0, name: NVIDIA GeForce GTX 1650, pci bus id: 0000:01:00.0, compute capability: 7.5\n"
     ]
    }
   ],
   "source": [
    "model = ResNetToTransformer()"
   ]
  },
  {
   "cell_type": "code",
   "execution_count": 6,
   "metadata": {},
   "outputs": [],
   "source": [
    "class Scheduler(tf.keras.optimizers.schedules.LearningRateSchedule):\n",
    "    def __init__(self, d_model, warmup_steps):\n",
    "        super().__init__()\n",
    "    def __call__(self, step):\n",
    "        if step < 2000:\n",
    "            return 1e-5\n",
    "        else:\n",
    "            return 1e-6 "
   ]
  },
  {
   "cell_type": "code",
   "execution_count": 7,
   "metadata": {},
   "outputs": [],
   "source": [
    "bce = tf.keras.losses.BinaryCrossentropy()"
   ]
  },
  {
   "cell_type": "code",
   "execution_count": 8,
   "metadata": {},
   "outputs": [],
   "source": [
    "total_steps = 15000\n",
    "warmup_steps = 600.0"
   ]
  },
  {
   "cell_type": "code",
   "execution_count": 9,
   "metadata": {},
   "outputs": [],
   "source": [
    "lr = Scheduler(256.0, warmup_steps = warmup_steps)"
   ]
  },
  {
   "cell_type": "code",
   "execution_count": 10,
   "metadata": {},
   "outputs": [],
   "source": [
    "opt = tf.keras.optimizers.Adam(learning_rate = 1e-5)"
   ]
  },
  {
   "cell_type": "code",
   "execution_count": 11,
   "metadata": {},
   "outputs": [],
   "source": [
    "from encoding import data_df, generate_embedding"
   ]
  },
  {
   "cell_type": "code",
   "execution_count": 12,
   "metadata": {},
   "outputs": [
    {
     "data": {
      "text/html": [
       "<div>\n",
       "<style scoped>\n",
       "    .dataframe tbody tr th:only-of-type {\n",
       "        vertical-align: middle;\n",
       "    }\n",
       "\n",
       "    .dataframe tbody tr th {\n",
       "        vertical-align: top;\n",
       "    }\n",
       "\n",
       "    .dataframe thead th {\n",
       "        text-align: right;\n",
       "    }\n",
       "</style>\n",
       "<table border=\"1\" class=\"dataframe\">\n",
       "  <thead>\n",
       "    <tr style=\"text-align: right;\">\n",
       "      <th></th>\n",
       "      <th>URL</th>\n",
       "      <th>content</th>\n",
       "      <th>classification</th>\n",
       "    </tr>\n",
       "  </thead>\n",
       "  <tbody>\n",
       "    <tr>\n",
       "      <th>0</th>\n",
       "      <td>[http, :, /, /, localhost, :, 8080, /, tienda1...</td>\n",
       "      <td>None</td>\n",
       "      <td>0</td>\n",
       "    </tr>\n",
       "    <tr>\n",
       "      <th>1</th>\n",
       "      <td>[http, :, /, /, localhost, :, 8080, /, tienda1...</td>\n",
       "      <td>None</td>\n",
       "      <td>0</td>\n",
       "    </tr>\n",
       "    <tr>\n",
       "      <th>2</th>\n",
       "      <td>[http, :, /, /, localhost, :, 8080, /, tienda1...</td>\n",
       "      <td>[id, =, 3, nombre, =, Vino, +, Rioja, precio, ...</td>\n",
       "      <td>0</td>\n",
       "    </tr>\n",
       "    <tr>\n",
       "      <th>3</th>\n",
       "      <td>[http, :, /, /, localhost, :, 8080, /, tienda1...</td>\n",
       "      <td>None</td>\n",
       "      <td>0</td>\n",
       "    </tr>\n",
       "    <tr>\n",
       "      <th>4</th>\n",
       "      <td>[http, :, /, /, localhost, :, 8080, /, tienda1...</td>\n",
       "      <td>[modo, =, entrar, login, =, choong, pwd, =, d1...</td>\n",
       "      <td>0</td>\n",
       "    </tr>\n",
       "    <tr>\n",
       "      <th>...</th>\n",
       "      <td>...</td>\n",
       "      <td>...</td>\n",
       "      <td>...</td>\n",
       "    </tr>\n",
       "    <tr>\n",
       "      <th>61060</th>\n",
       "      <td>[http, :, /, /, localhost, :, 8080, /, tienda1...</td>\n",
       "      <td>None</td>\n",
       "      <td>1</td>\n",
       "    </tr>\n",
       "    <tr>\n",
       "      <th>61061</th>\n",
       "      <td>[http, :, /, /, localhost, :, 8080, /, tienda1...</td>\n",
       "      <td>[modo, =, registro, login, =, beaumont, passwo...</td>\n",
       "      <td>1</td>\n",
       "    </tr>\n",
       "    <tr>\n",
       "      <th>61062</th>\n",
       "      <td>[http, :, /, /, localhost, :, 8080, /, tienda1...</td>\n",
       "      <td>None</td>\n",
       "      <td>1</td>\n",
       "    </tr>\n",
       "    <tr>\n",
       "      <th>61063</th>\n",
       "      <td>[http, :, /, /, localhost, :, 8080, /, tienda1...</td>\n",
       "      <td>None</td>\n",
       "      <td>1</td>\n",
       "    </tr>\n",
       "    <tr>\n",
       "      <th>61064</th>\n",
       "      <td>[http, :, /, /, localhost, :, 8080, /, tienda1...</td>\n",
       "      <td>None</td>\n",
       "      <td>1</td>\n",
       "    </tr>\n",
       "  </tbody>\n",
       "</table>\n",
       "<p>61065 rows × 3 columns</p>\n",
       "</div>"
      ],
      "text/plain": [
       "                                                     URL  \\\n",
       "0      [http, :, /, /, localhost, :, 8080, /, tienda1...   \n",
       "1      [http, :, /, /, localhost, :, 8080, /, tienda1...   \n",
       "2      [http, :, /, /, localhost, :, 8080, /, tienda1...   \n",
       "3      [http, :, /, /, localhost, :, 8080, /, tienda1...   \n",
       "4      [http, :, /, /, localhost, :, 8080, /, tienda1...   \n",
       "...                                                  ...   \n",
       "61060  [http, :, /, /, localhost, :, 8080, /, tienda1...   \n",
       "61061  [http, :, /, /, localhost, :, 8080, /, tienda1...   \n",
       "61062  [http, :, /, /, localhost, :, 8080, /, tienda1...   \n",
       "61063  [http, :, /, /, localhost, :, 8080, /, tienda1...   \n",
       "61064  [http, :, /, /, localhost, :, 8080, /, tienda1...   \n",
       "\n",
       "                                                 content  classification  \n",
       "0                                                   None               0  \n",
       "1                                                   None               0  \n",
       "2      [id, =, 3, nombre, =, Vino, +, Rioja, precio, ...               0  \n",
       "3                                                   None               0  \n",
       "4      [modo, =, entrar, login, =, choong, pwd, =, d1...               0  \n",
       "...                                                  ...             ...  \n",
       "61060                                               None               1  \n",
       "61061  [modo, =, registro, login, =, beaumont, passwo...               1  \n",
       "61062                                               None               1  \n",
       "61063                                               None               1  \n",
       "61064                                               None               1  \n",
       "\n",
       "[61065 rows x 3 columns]"
      ]
     },
     "execution_count": 12,
     "metadata": {},
     "output_type": "execute_result"
    }
   ],
   "source": [
    "data_df"
   ]
  },
  {
   "cell_type": "code",
   "execution_count": 13,
   "metadata": {},
   "outputs": [],
   "source": [
    "l = []\n",
    "for i in range(26000, 46000):\n",
    "    l.append(i)"
   ]
  },
  {
   "cell_type": "code",
   "execution_count": 14,
   "metadata": {},
   "outputs": [
    {
     "data": {
      "text/plain": [
       "20000"
      ]
     },
     "execution_count": 14,
     "metadata": {},
     "output_type": "execute_result"
    }
   ],
   "source": [
    "len(l)"
   ]
  },
  {
   "cell_type": "code",
   "execution_count": 15,
   "metadata": {},
   "outputs": [],
   "source": [
    "l_test = []\n",
    "\n",
    "for i in range(0, 5000):\n",
    "    l_test.append(i)\n",
    "\n",
    "for i in range(56065, 61065):\n",
    "    l_test.append(i)\n"
   ]
  },
  {
   "cell_type": "code",
   "execution_count": 16,
   "metadata": {},
   "outputs": [
    {
     "data": {
      "text/plain": [
       "10000"
      ]
     },
     "execution_count": 16,
     "metadata": {},
     "output_type": "execute_result"
    }
   ],
   "source": [
    "len(l_test)"
   ]
  },
  {
   "cell_type": "code",
   "execution_count": 17,
   "metadata": {},
   "outputs": [],
   "source": [
    "import random"
   ]
  },
  {
   "cell_type": "code",
   "execution_count": 18,
   "metadata": {},
   "outputs": [],
   "source": [
    "random.seed(42)\n",
    "random.shuffle(l)"
   ]
  },
  {
   "cell_type": "code",
   "execution_count": 19,
   "metadata": {},
   "outputs": [],
   "source": [
    "random.shuffle(l_test)"
   ]
  },
  {
   "cell_type": "code",
   "execution_count": 20,
   "metadata": {},
   "outputs": [],
   "source": [
    "losses = []"
   ]
  },
  {
   "cell_type": "code",
   "execution_count": 21,
   "metadata": {},
   "outputs": [],
   "source": [
    "def train(model, x, y, opt):\n",
    "    with tf.GradientTape() as tape:\n",
    "        loss = bce(y, model(x))\n",
    "    losses.append(loss)    \n",
    "    vars = model.trainable_variables\n",
    "    grads = tape.gradient(loss, vars)\n",
    "    opt.apply_gradients(zip(grads, vars))\n",
    "    \n"
   ]
  },
  {
   "cell_type": "code",
   "execution_count": 22,
   "metadata": {},
   "outputs": [],
   "source": [
    "from tqdm import tqdm"
   ]
  },
  {
   "cell_type": "code",
   "execution_count": 23,
   "metadata": {},
   "outputs": [
    {
     "name": "stderr",
     "output_type": "stream",
     "text": [
      "  0%|          | 0/2500 [00:00<?, ?it/s]2022-12-19 11:13:53.675736: I tensorflow/stream_executor/cuda/cuda_dnn.cc:384] Loaded cuDNN version 8100\n",
      "2022-12-19 11:14:13.298686: I tensorflow/core/platform/default/subprocess.cc:304] Start cannot spawn child process: No such file or directory\n",
      "2022-12-19 11:14:31.296254: W tensorflow/core/common_runtime/bfc_allocator.cc:290] Allocator (GPU_0_bfc) ran out of memory trying to allocate 2.28GiB with freed_by_count=0. The caller indicates that this is not a failure, but this may mean that there could be performance gains if more memory were available.\n",
      "2022-12-19 11:14:31.454892: W tensorflow/core/common_runtime/bfc_allocator.cc:290] Allocator (GPU_0_bfc) ran out of memory trying to allocate 2.28GiB with freed_by_count=0. The caller indicates that this is not a failure, but this may mean that there could be performance gains if more memory were available.\n",
      "2022-12-19 11:14:39.755253: W tensorflow/core/common_runtime/bfc_allocator.cc:290] Allocator (GPU_0_bfc) ran out of memory trying to allocate 2.28GiB with freed_by_count=0. The caller indicates that this is not a failure, but this may mean that there could be performance gains if more memory were available.\n",
      "2022-12-19 11:14:39.755337: W tensorflow/core/common_runtime/bfc_allocator.cc:290] Allocator (GPU_0_bfc) ran out of memory trying to allocate 2.28GiB with freed_by_count=0. The caller indicates that this is not a failure, but this may mean that there could be performance gains if more memory were available.\n",
      "2022-12-19 11:14:39.768983: W tensorflow/core/common_runtime/bfc_allocator.cc:290] Allocator (GPU_0_bfc) ran out of memory trying to allocate 2.03GiB with freed_by_count=0. The caller indicates that this is not a failure, but this may mean that there could be performance gains if more memory were available.\n",
      "2022-12-19 11:14:39.769046: W tensorflow/core/common_runtime/bfc_allocator.cc:290] Allocator (GPU_0_bfc) ran out of memory trying to allocate 2.03GiB with freed_by_count=0. The caller indicates that this is not a failure, but this may mean that there could be performance gains if more memory were available.\n",
      " 90%|████████▉ | 2242/2500 [1:44:34<16:54,  3.93s/it]  "
     ]
    }
   ],
   "source": [
    "for epochs in range(2):\n",
    "    for i in tqdm(range(0, 20000, 8)):\n",
    "        train(model,\n",
    "            tf.stack([tf.constant(generate_embedding(l[i]), shape = (309, 300), dtype = tf.float32),\n",
    "                tf.constant(generate_embedding(l[i + 1]), shape = (309, 300), dtype = tf.float32),\n",
    "                tf.constant(generate_embedding(l[i + 2]), shape = (309, 300), dtype = tf.float32),\n",
    "                tf.constant(generate_embedding(l[i + 3]), shape = (309, 300), dtype = tf.float32),\n",
    "                tf.constant(generate_embedding(l[i + 4]), shape = (309, 300), dtype = tf.float32),\n",
    "                tf.constant(generate_embedding(l[i + 5]), shape = (309, 300), dtype = tf.float32),\n",
    "                tf.constant(generate_embedding(l[i + 6]), shape = (309, 300), dtype = tf.float32),\n",
    "                tf.constant(generate_embedding(l[i + 7]), shape = (309, 300), dtype = tf.float32)]),\n",
    "            tf.stack([tf.constant(data_df['classification'][l[i]], shape = (1, 1), dtype = tf.float32),\n",
    "                    tf.constant(data_df['classification'][l[i + 1]], shape = (1, 1), dtype = tf.float32),\n",
    "                    tf.constant(data_df['classification'][l[i + 2]], shape = (1, 1), dtype = tf.float32),\n",
    "                    tf.constant(data_df['classification'][l[i + 3]], shape = (1, 1), dtype = tf.float32),\n",
    "                    tf.constant(data_df['classification'][l[i + 4]], shape = (1, 1), dtype = tf.float32),\n",
    "                    tf.constant(data_df['classification'][l[i + 5]], shape = (1, 1), dtype = tf.float32),\n",
    "                    tf.constant(data_df['classification'][l[i + 6]], shape = (1, 1), dtype = tf.float32),\n",
    "                    tf.constant(data_df['classification'][l[i + 7]], shape = (1, 1), dtype = tf.float32)]), \n",
    "            opt)\n",
    "    opt = tf.keras.optimizers.Adam(learning_rate = 1e-7)\n"
   ]
  },
  {
   "cell_type": "code",
   "execution_count": 47,
   "metadata": {},
   "outputs": [
    {
     "name": "stderr",
     "output_type": "stream",
     "text": [
      "100%|██████████| 1000/1000 [06:07<00:00,  2.72it/s]\n"
     ]
    }
   ],
   "source": [
    "acc = 0\n",
    "for i in tqdm(range(1000)):\n",
    "    if model(tf.constant(generate_embedding(l_test[i]), shape = (1, 309, 300), dtype = tf.float32)).numpy()[0][0] < 0.5:\n",
    "        if data_df['classification'][l_test[i]] == 0:\n",
    "            acc += 1\n",
    "    else:\n",
    "        if data_df['classification'][l_test[i]] == 1:\n",
    "            acc += 1"
   ]
  },
  {
   "cell_type": "code",
   "execution_count": 48,
   "metadata": {},
   "outputs": [
    {
     "data": {
      "text/plain": [
       "947"
      ]
     },
     "execution_count": 48,
     "metadata": {},
     "output_type": "execute_result"
    }
   ],
   "source": [
    "acc"
   ]
  },
  {
   "cell_type": "code",
   "execution_count": 89,
   "metadata": {},
   "outputs": [
    {
     "data": {
      "text/plain": [
       "False"
      ]
     },
     "execution_count": 89,
     "metadata": {},
     "output_type": "execute_result"
    }
   ],
   "source": [
    "model(tf.constant(generate_embedding(l[1]), shape = (1, 309, 300), dtype = tf.float32)).numpy()[0][0] < 0.5"
   ]
  },
  {
   "cell_type": "code",
   "execution_count": 83,
   "metadata": {},
   "outputs": [
    {
     "data": {
      "text/plain": [
       "0"
      ]
     },
     "execution_count": 83,
     "metadata": {},
     "output_type": "execute_result"
    }
   ],
   "source": [
    "data_df['classification'][l[3]]"
   ]
  },
  {
   "cell_type": "code",
   "execution_count": 30,
   "metadata": {},
   "outputs": [],
   "source": [
    "import matplotlib.pyplot as plt"
   ]
  },
  {
   "cell_type": "code",
   "execution_count": 46,
   "metadata": {},
   "outputs": [
    {
     "data": {
      "text/plain": [
       "3000"
      ]
     },
     "execution_count": 46,
     "metadata": {},
     "output_type": "execute_result"
    }
   ],
   "source": [
    "s = 0\n",
    "for i in range(6000):\n",
    "    s += data_df['classification'][l[i]]\n",
    "s"
   ]
  },
  {
   "cell_type": "code",
   "execution_count": 37,
   "metadata": {},
   "outputs": [
    {
     "data": {
      "text/plain": [
       "5031"
      ]
     },
     "execution_count": 37,
     "metadata": {},
     "output_type": "execute_result"
    }
   ],
   "source": [
    "len(losses)"
   ]
  },
  {
   "cell_type": "code",
   "execution_count": 40,
   "metadata": {},
   "outputs": [
    {
     "data": {
      "text/plain": [
       "<matplotlib.collections.PathCollection at 0x7f005292eeb0>"
      ]
     },
     "execution_count": 40,
     "metadata": {},
     "output_type": "execute_result"
    },
    {
     "data": {
      "image/png": "[encoded data removed]",
      "text/plain": [
       "<Figure size 640x480 with 1 Axes>"
      ]
     },
     "metadata": {},
     "output_type": "display_data"
    }
   ],
   "source": [
    "plt.scatter(range(2000, 4000), losses[2000:4000], s = [2])"
   ]
  },
  {
   "cell_type": "code",
   "execution_count": 11,
   "metadata": {},
   "outputs": [
    {
     "ename": "ValueError",
     "evalue": "Found zero restored functions for caller function.",
     "output_type": "error",
     "traceback": [
      "\u001b[0;31m---------------------------------------------------------------------------\u001b[0m",
      "\u001b[0;31mValueError\u001b[0m                                Traceback (most recent call last)",
      "\u001b[1;32m/root/major_project/project/major_project/src/model_test.ipynb Cell 11\u001b[0m in \u001b[0;36m<cell line: 1>\u001b[0;34m()\u001b[0m\n\u001b[0;32m----> <a href='vscode-notebook-cell://wsl%2Bubuntu/root/major_project/project/major_project/src/model_test.ipynb#X26sdnNjb2RlLXJlbW90ZQ%3D%3D?line=0'>1</a>\u001b[0m pred \u001b[39m=\u001b[39m model(tf\u001b[39m.\u001b[39;49mconstant(generate_embedding(\u001b[39m36010\u001b[39;49m)), shape \u001b[39m=\u001b[39;49m (\u001b[39m1\u001b[39;49m, \u001b[39m309\u001b[39;49m, \u001b[39m300\u001b[39;49m))\n",
      "File \u001b[0;32m~/miniconda3/envs/mp/lib/python3.9/site-packages/tensorflow/python/saved_model/load.py:704\u001b[0m, in \u001b[0;36m_call_attribute\u001b[0;34m(instance, *args, **kwargs)\u001b[0m\n\u001b[1;32m    703\u001b[0m \u001b[39mdef\u001b[39;00m \u001b[39m_call_attribute\u001b[39m(instance, \u001b[39m*\u001b[39margs, \u001b[39m*\u001b[39m\u001b[39m*\u001b[39mkwargs):\n\u001b[0;32m--> 704\u001b[0m   \u001b[39mreturn\u001b[39;00m instance\u001b[39m.\u001b[39;49m\u001b[39m__call__\u001b[39;49m(\u001b[39m*\u001b[39;49margs, \u001b[39m*\u001b[39;49m\u001b[39m*\u001b[39;49mkwargs)\n",
      "File \u001b[0;32m~/miniconda3/envs/mp/lib/python3.9/site-packages/tensorflow/python/util/traceback_utils.py:153\u001b[0m, in \u001b[0;36mfilter_traceback.<locals>.error_handler\u001b[0;34m(*args, **kwargs)\u001b[0m\n\u001b[1;32m    151\u001b[0m \u001b[39mexcept\u001b[39;00m \u001b[39mException\u001b[39;00m \u001b[39mas\u001b[39;00m e:\n\u001b[1;32m    152\u001b[0m   filtered_tb \u001b[39m=\u001b[39m _process_traceback_frames(e\u001b[39m.\u001b[39m__traceback__)\n\u001b[0;32m--> 153\u001b[0m   \u001b[39mraise\u001b[39;00m e\u001b[39m.\u001b[39mwith_traceback(filtered_tb) \u001b[39mfrom\u001b[39;00m \u001b[39mNone\u001b[39m\n\u001b[1;32m    154\u001b[0m \u001b[39mfinally\u001b[39;00m:\n\u001b[1;32m    155\u001b[0m   \u001b[39mdel\u001b[39;00m filtered_tb\n",
      "File \u001b[0;32m~/miniconda3/envs/mp/lib/python3.9/site-packages/tensorflow/python/saved_model/function_deserialization.py:261\u001b[0m, in \u001b[0;36mrecreate_function.<locals>.restored_function_body\u001b[0;34m(*args, **kwargs)\u001b[0m\n\u001b[1;32m    259\u001b[0m \u001b[39m\"\"\"Calls a restored function or raises an error if no matching function.\"\"\"\u001b[39;00m\n\u001b[1;32m    260\u001b[0m \u001b[39mif\u001b[39;00m \u001b[39mnot\u001b[39;00m saved_function\u001b[39m.\u001b[39mconcrete_functions:\n\u001b[0;32m--> 261\u001b[0m   \u001b[39mraise\u001b[39;00m \u001b[39mValueError\u001b[39;00m(\u001b[39m\"\u001b[39m\u001b[39mFound zero restored functions for caller function.\u001b[39m\u001b[39m\"\u001b[39m)\n\u001b[1;32m    262\u001b[0m \u001b[39m# This is the format of function.graph.structured_input_signature. At this\u001b[39;00m\n\u001b[1;32m    263\u001b[0m \u001b[39m# point, the args and kwargs have already been canonicalized.\u001b[39;00m\n\u001b[1;32m    264\u001b[0m inputs \u001b[39m=\u001b[39m (args, kwargs)\n",
      "\u001b[0;31mValueError\u001b[0m: Found zero restored functions for caller function."
     ]
    }
   ],
   "source": [
    "pred = model(tf.constant(generate_embedding(36010)), shape = (1, 309, 300))"
   ]
  },
  {
   "cell_type": "code",
   "execution_count": 12,
   "metadata": {},
   "outputs": [],
   "source": [
    "count = 0"
   ]
  },
  {
   "cell_type": "code",
   "execution_count": 13,
   "metadata": {},
   "outputs": [
    {
     "name": "stderr",
     "output_type": "stream",
     "text": [
      "100%|██████████| 500/500 [02:31<00:00,  3.30it/s]\n"
     ]
    }
   ],
   "source": [
    "for i in tqdm(l[4500:]):\n",
    "    pred = model(tf.constant(generate_embedding(i), shape = (1, 309, 300)))\n",
    "    if pred <= 0.5:\n",
    "        pred = 0\n",
    "    else:\n",
    "        pred = 1\n",
    "    if data_df['classification'][i] == pred:\n",
    "        count += 1\n",
    "    "
   ]
  },
  {
   "cell_type": "code",
   "execution_count": 14,
   "metadata": {},
   "outputs": [
    {
     "data": {
      "text/plain": [
       "724"
      ]
     },
     "execution_count": 14,
     "metadata": {},
     "output_type": "execute_result"
    }
   ],
   "source": [
    "count*2"
   ]
  },
  {
   "cell_type": "code",
   "execution_count": 22,
   "metadata": {},
   "outputs": [
    {
     "name": "stderr",
     "output_type": "stream",
     "text": [
      "WARNING:absl:Found untraced functions such as combined_1_layer_call_fn, combined_1_layer_call_and_return_conditional_losses, cnn_1_layer_call_fn, cnn_1_layer_call_and_return_conditional_losses, rnn_1_layer_call_fn while saving (showing 5 of 16). These functions will not be directly callable after loading.\n",
      "Exception ignored in: <function tqdm.__del__ at 0x7efc552baa60>\n",
      "Traceback (most recent call last):\n",
      "  File \"/root/miniconda3/envs/mp/lib/python3.9/site-packages/tqdm/std.py\", line 1162, in __del__\n",
      "    self.close()\n",
      "  File \"/root/miniconda3/envs/mp/lib/python3.9/site-packages/tqdm/std.py\", line 1291, in close\n",
      "    if self.last_print_t < self.start_t + self.delay:\n",
      "AttributeError: 'tqdm' object has no attribute 'last_print_t'\n"
     ]
    },
    {
     "name": "stdout",
     "output_type": "stream",
     "text": [
      "INFO:tensorflow:Assets written to: ../model/model_test_2/assets\n"
     ]
    },
    {
     "name": "stderr",
     "output_type": "stream",
     "text": [
      "INFO:tensorflow:Assets written to: ../model/model_test_2/assets\n"
     ]
    }
   ],
   "source": [
    "tf.saved_model.save(model, \"../model/model_test_2\")"
   ]
  },
  {
   "cell_type": "code",
   "execution_count": 15,
   "metadata": {},
   "outputs": [],
   "source": [
    "l.clear()"
   ]
  },
  {
   "cell_type": "code",
   "execution_count": 16,
   "metadata": {},
   "outputs": [],
   "source": [
    "for i in range(25400, 25500):\n",
    "    l.append(i)\n",
    "\n",
    "for i in range(46500, 46550):\n",
    "    l.append(i)"
   ]
  },
  {
   "cell_type": "code",
   "execution_count": 17,
   "metadata": {},
   "outputs": [
    {
     "data": {
      "text/plain": [
       "[25400,\n",
       " 25401,\n",
       " 25402,\n",
       " 25403,\n",
       " 25404,\n",
       " 25405,\n",
       " 25406,\n",
       " 25407,\n",
       " 25408,\n",
       " 25409,\n",
       " 25410,\n",
       " 25411,\n",
       " 25412,\n",
       " 25413,\n",
       " 25414,\n",
       " 25415,\n",
       " 25416,\n",
       " 25417,\n",
       " 25418,\n",
       " 25419,\n",
       " 25420,\n",
       " 25421,\n",
       " 25422,\n",
       " 25423,\n",
       " 25424,\n",
       " 25425,\n",
       " 25426,\n",
       " 25427,\n",
       " 25428,\n",
       " 25429,\n",
       " 25430,\n",
       " 25431,\n",
       " 25432,\n",
       " 25433,\n",
       " 25434,\n",
       " 25435,\n",
       " 25436,\n",
       " 25437,\n",
       " 25438,\n",
       " 25439,\n",
       " 25440,\n",
       " 25441,\n",
       " 25442,\n",
       " 25443,\n",
       " 25444,\n",
       " 25445,\n",
       " 25446,\n",
       " 25447,\n",
       " 25448,\n",
       " 25449,\n",
       " 25450,\n",
       " 25451,\n",
       " 25452,\n",
       " 25453,\n",
       " 25454,\n",
       " 25455,\n",
       " 25456,\n",
       " 25457,\n",
       " 25458,\n",
       " 25459,\n",
       " 25460,\n",
       " 25461,\n",
       " 25462,\n",
       " 25463,\n",
       " 25464,\n",
       " 25465,\n",
       " 25466,\n",
       " 25467,\n",
       " 25468,\n",
       " 25469,\n",
       " 25470,\n",
       " 25471,\n",
       " 25472,\n",
       " 25473,\n",
       " 25474,\n",
       " 25475,\n",
       " 25476,\n",
       " 25477,\n",
       " 25478,\n",
       " 25479,\n",
       " 25480,\n",
       " 25481,\n",
       " 25482,\n",
       " 25483,\n",
       " 25484,\n",
       " 25485,\n",
       " 25486,\n",
       " 25487,\n",
       " 25488,\n",
       " 25489,\n",
       " 25490,\n",
       " 25491,\n",
       " 25492,\n",
       " 25493,\n",
       " 25494,\n",
       " 25495,\n",
       " 25496,\n",
       " 25497,\n",
       " 25498,\n",
       " 25499,\n",
       " 46500,\n",
       " 46501,\n",
       " 46502,\n",
       " 46503,\n",
       " 46504,\n",
       " 46505,\n",
       " 46506,\n",
       " 46507,\n",
       " 46508,\n",
       " 46509,\n",
       " 46510,\n",
       " 46511,\n",
       " 46512,\n",
       " 46513,\n",
       " 46514,\n",
       " 46515,\n",
       " 46516,\n",
       " 46517,\n",
       " 46518,\n",
       " 46519,\n",
       " 46520,\n",
       " 46521,\n",
       " 46522,\n",
       " 46523,\n",
       " 46524,\n",
       " 46525,\n",
       " 46526,\n",
       " 46527,\n",
       " 46528,\n",
       " 46529,\n",
       " 46530,\n",
       " 46531,\n",
       " 46532,\n",
       " 46533,\n",
       " 46534,\n",
       " 46535,\n",
       " 46536,\n",
       " 46537,\n",
       " 46538,\n",
       " 46539,\n",
       " 46540,\n",
       " 46541,\n",
       " 46542,\n",
       " 46543,\n",
       " 46544,\n",
       " 46545,\n",
       " 46546,\n",
       " 46547,\n",
       " 46548,\n",
       " 46549]"
      ]
     },
     "execution_count": 17,
     "metadata": {},
     "output_type": "execute_result"
    }
   ],
   "source": [
    "l"
   ]
  },
  {
   "cell_type": "code",
   "execution_count": 18,
   "metadata": {},
   "outputs": [],
   "source": [
    "count2 = 0"
   ]
  },
  {
   "cell_type": "code",
   "execution_count": 19,
   "metadata": {},
   "outputs": [
    {
     "name": "stderr",
     "output_type": "stream",
     "text": [
      "100%|██████████| 150/150 [01:15<00:00,  1.98it/s]\n"
     ]
    }
   ],
   "source": [
    "for i in tqdm(l):\n",
    "    pred = model(tf.constant(generate_embedding(i), shape = (1, 309, 300)))\n",
    "    if pred <= 0.5:\n",
    "        pred = 0\n",
    "    else:\n",
    "        pred = 1\n",
    "    if data_df['classification'][i] == pred:\n",
    "        count2 += 1"
   ]
  },
  {
   "cell_type": "code",
   "execution_count": 20,
   "metadata": {},
   "outputs": [
    {
     "data": {
      "text/plain": [
       "0.6666666666666666"
      ]
     },
     "execution_count": 20,
     "metadata": {},
     "output_type": "execute_result"
    }
   ],
   "source": [
    "count2 / len(l)"
   ]
  },
  {
   "cell_type": "code",
   "execution_count": 23,
   "metadata": {},
   "outputs": [
    {
     "name": "stderr",
     "output_type": "stream",
     "text": [
      "WARNING:absl:Found untraced functions such as combined_layer_call_fn, combined_layer_call_and_return_conditional_losses, cnn_layer_call_fn, cnn_layer_call_and_return_conditional_losses, rnn_layer_call_fn while saving (showing 5 of 16). These functions will not be directly callable after loading.\n"
     ]
    },
    {
     "name": "stdout",
     "output_type": "stream",
     "text": [
      "INFO:tensorflow:Assets written to: ../data/model_test_2/assets\n"
     ]
    },
    {
     "name": "stderr",
     "output_type": "stream",
     "text": [
      "INFO:tensorflow:Assets written to: ../data/model_test_2/assets\n"
     ]
    }
   ],
   "source": [
    "tf.keras.models.save_model(model, '../data/model_test_2')"
   ]
  },
  {
   "cell_type": "code",
   "execution_count": null,
   "metadata": {},
   "outputs": [],
   "source": [
    "model.save_weights(\"../model/model_test_3_weights\")"
   ]
  },
  {
   "cell_type": "code",
   "execution_count": 27,
   "metadata": {},
   "outputs": [],
   "source": [
    "model_loaded = tf.saved_model.load('../data/model_test_2')"
   ]
  },
  {
   "cell_type": "code",
   "execution_count": 29,
   "metadata": {},
   "outputs": [
    {
     "ename": "ValueError",
     "evalue": "Found zero restored functions for caller function.",
     "output_type": "error",
     "traceback": [
      "\u001b[0;31m---------------------------------------------------------------------------\u001b[0m",
      "\u001b[0;31mValueError\u001b[0m                                Traceback (most recent call last)",
      "\u001b[1;32m/root/major_project/project/project_code/src/model_test.ipynb Cell 26\u001b[0m in \u001b[0;36m<cell line: 1>\u001b[0;34m()\u001b[0m\n\u001b[0;32m----> <a href='vscode-notebook-cell://wsl%2Bubuntu/root/major_project/project/project_code/src/model_test.ipynb#X34sdnNjb2RlLXJlbW90ZQ%3D%3D?line=0'>1</a>\u001b[0m pred \u001b[39m=\u001b[39m model_loaded(tf\u001b[39m.\u001b[39;49mconstant(generate_embedding(\u001b[39m36010\u001b[39;49m), shape \u001b[39m=\u001b[39;49m (\u001b[39m1\u001b[39;49m, \u001b[39m309\u001b[39;49m, \u001b[39m300\u001b[39;49m)))\n",
      "File \u001b[0;32m~/miniconda3/envs/mp/lib/python3.9/site-packages/tensorflow/python/saved_model/load.py:704\u001b[0m, in \u001b[0;36m_call_attribute\u001b[0;34m(instance, *args, **kwargs)\u001b[0m\n\u001b[1;32m    703\u001b[0m \u001b[39mdef\u001b[39;00m \u001b[39m_call_attribute\u001b[39m(instance, \u001b[39m*\u001b[39margs, \u001b[39m*\u001b[39m\u001b[39m*\u001b[39mkwargs):\n\u001b[0;32m--> 704\u001b[0m   \u001b[39mreturn\u001b[39;00m instance\u001b[39m.\u001b[39;49m\u001b[39m__call__\u001b[39;49m(\u001b[39m*\u001b[39;49margs, \u001b[39m*\u001b[39;49m\u001b[39m*\u001b[39;49mkwargs)\n",
      "File \u001b[0;32m~/miniconda3/envs/mp/lib/python3.9/site-packages/tensorflow/python/util/traceback_utils.py:153\u001b[0m, in \u001b[0;36mfilter_traceback.<locals>.error_handler\u001b[0;34m(*args, **kwargs)\u001b[0m\n\u001b[1;32m    151\u001b[0m \u001b[39mexcept\u001b[39;00m \u001b[39mException\u001b[39;00m \u001b[39mas\u001b[39;00m e:\n\u001b[1;32m    152\u001b[0m   filtered_tb \u001b[39m=\u001b[39m _process_traceback_frames(e\u001b[39m.\u001b[39m__traceback__)\n\u001b[0;32m--> 153\u001b[0m   \u001b[39mraise\u001b[39;00m e\u001b[39m.\u001b[39mwith_traceback(filtered_tb) \u001b[39mfrom\u001b[39;00m \u001b[39mNone\u001b[39m\n\u001b[1;32m    154\u001b[0m \u001b[39mfinally\u001b[39;00m:\n\u001b[1;32m    155\u001b[0m   \u001b[39mdel\u001b[39;00m filtered_tb\n",
      "File \u001b[0;32m~/miniconda3/envs/mp/lib/python3.9/site-packages/tensorflow/python/saved_model/function_deserialization.py:261\u001b[0m, in \u001b[0;36mrecreate_function.<locals>.restored_function_body\u001b[0;34m(*args, **kwargs)\u001b[0m\n\u001b[1;32m    259\u001b[0m \u001b[39m\"\"\"Calls a restored function or raises an error if no matching function.\"\"\"\u001b[39;00m\n\u001b[1;32m    260\u001b[0m \u001b[39mif\u001b[39;00m \u001b[39mnot\u001b[39;00m saved_function\u001b[39m.\u001b[39mconcrete_functions:\n\u001b[0;32m--> 261\u001b[0m   \u001b[39mraise\u001b[39;00m \u001b[39mValueError\u001b[39;00m(\u001b[39m\"\u001b[39m\u001b[39mFound zero restored functions for caller function.\u001b[39m\u001b[39m\"\u001b[39m)\n\u001b[1;32m    262\u001b[0m \u001b[39m# This is the format of function.graph.structured_input_signature. At this\u001b[39;00m\n\u001b[1;32m    263\u001b[0m \u001b[39m# point, the args and kwargs have already been canonicalized.\u001b[39;00m\n\u001b[1;32m    264\u001b[0m inputs \u001b[39m=\u001b[39m (args, kwargs)\n",
      "\u001b[0;31mValueError\u001b[0m: Found zero restored functions for caller function."
     ]
    }
   ],
   "source": [
    "pred = model_loaded(tf.constant(generate_embedding(36010), shape = (1, 309, 300)))"
   ]
  },
  {
   "cell_type": "code",
   "execution_count": null,
   "metadata": {},
   "outputs": [],
   "source": []
  }
 ],
 "metadata": {
  "kernelspec": {
   "display_name": "Python 3.9.13 ('mp')",
   "language": "python",
   "name": "python3"
  },
  "language_info": {
   "codemirror_mode": {
    "name": "ipython",
    "version": 3
   },
   "file_extension": ".py",
   "mimetype": "text/x-python",
   "name": "python",
   "nbconvert_exporter": "python",
   "pygments_lexer": "ipython3",
   "version": "3.9.13 (main, Oct 13 2022, 21:15:33) \n[GCC 11.2.0]"
  },
  "orig_nbformat": 4,
  "vscode": {
   "interpreter": {
    "hash": "3b2f0d05c80380c0ab207ce690e1c64c7459e4e094c973e076c3ab9adb08e8c1"
   }
  }
 },
 "nbformat": 4,
 "nbformat_minor": 2
}
