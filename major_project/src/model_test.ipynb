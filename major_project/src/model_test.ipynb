{
 "cells": [
  {
   "cell_type": "code",
   "execution_count": 1,
   "metadata": {},
   "outputs": [
    {
     "name": "stderr",
     "output_type": "stream",
     "text": [
      "2022-11-07 15:51:52.836563: I tensorflow/core/platform/cpu_feature_guard.cc:193] This TensorFlow binary is optimized with oneAPI Deep Neural Network Library (oneDNN) to use the following CPU instructions in performance-critical operations:  AVX2 FMA\n",
      "To enable them in other operations, rebuild TensorFlow with the appropriate compiler flags.\n",
      "2022-11-07 15:51:56.302275: E tensorflow/stream_executor/cuda/cuda_blas.cc:2981] Unable to register cuBLAS factory: Attempting to register factory for plugin cuBLAS when one has already been registered\n",
      "2022-11-07 15:52:04.450138: W tensorflow/stream_executor/platform/default/dso_loader.cc:64] Could not load dynamic library 'libnvinfer.so.7'; dlerror: libnvinfer.so.7: cannot open shared object file: No such file or directory; LD_LIBRARY_PATH: :/root/miniconda3/envs/mp/lib/:/root/miniconda3/envs/mp/lib/\n",
      "2022-11-07 15:52:04.450338: W tensorflow/stream_executor/platform/default/dso_loader.cc:64] Could not load dynamic library 'libnvinfer_plugin.so.7'; dlerror: libnvinfer_plugin.so.7: cannot open shared object file: No such file or directory; LD_LIBRARY_PATH: :/root/miniconda3/envs/mp/lib/:/root/miniconda3/envs/mp/lib/\n",
      "2022-11-07 15:52:04.450351: W tensorflow/compiler/tf2tensorrt/utils/py_utils.cc:38] TF-TRT Warning: Cannot dlopen some TensorRT libraries. If you would like to use Nvidia GPU with TensorRT, please make sure the missing libraries mentioned above are installed properly.\n"
     ]
    }
   ],
   "source": [
    "import tensorflow as tf\n",
    "from models import Combined\n",
    "from encoding import generate_embedding, data_df\n",
    "from tqdm import tqdm"
   ]
  },
  {
   "cell_type": "code",
   "execution_count": 3,
   "metadata": {},
   "outputs": [
    {
     "name": "stderr",
     "output_type": "stream",
     "text": [
      "2022-11-07 15:55:31.301665: I tensorflow/stream_executor/cuda/cuda_gpu_executor.cc:966] could not open file to read NUMA node: /sys/bus/pci/devices/0000:01:00.0/numa_node\n",
      "Your kernel may have been built without NUMA support.\n",
      "2022-11-07 15:55:31.885330: I tensorflow/stream_executor/cuda/cuda_gpu_executor.cc:966] could not open file to read NUMA node: /sys/bus/pci/devices/0000:01:00.0/numa_node\n",
      "Your kernel may have been built without NUMA support.\n",
      "2022-11-07 15:55:31.886105: I tensorflow/stream_executor/cuda/cuda_gpu_executor.cc:966] could not open file to read NUMA node: /sys/bus/pci/devices/0000:01:00.0/numa_node\n",
      "Your kernel may have been built without NUMA support.\n",
      "2022-11-07 15:55:31.935055: I tensorflow/core/platform/cpu_feature_guard.cc:193] This TensorFlow binary is optimized with oneAPI Deep Neural Network Library (oneDNN) to use the following CPU instructions in performance-critical operations:  AVX2 FMA\n",
      "To enable them in other operations, rebuild TensorFlow with the appropriate compiler flags.\n",
      "2022-11-07 15:55:31.937170: I tensorflow/stream_executor/cuda/cuda_gpu_executor.cc:966] could not open file to read NUMA node: /sys/bus/pci/devices/0000:01:00.0/numa_node\n",
      "Your kernel may have been built without NUMA support.\n",
      "2022-11-07 15:55:31.937980: I tensorflow/stream_executor/cuda/cuda_gpu_executor.cc:966] could not open file to read NUMA node: /sys/bus/pci/devices/0000:01:00.0/numa_node\n",
      "Your kernel may have been built without NUMA support.\n",
      "2022-11-07 15:55:31.938774: I tensorflow/stream_executor/cuda/cuda_gpu_executor.cc:966] could not open file to read NUMA node: /sys/bus/pci/devices/0000:01:00.0/numa_node\n",
      "Your kernel may have been built without NUMA support.\n",
      "2022-11-07 15:55:41.443475: I tensorflow/stream_executor/cuda/cuda_gpu_executor.cc:966] could not open file to read NUMA node: /sys/bus/pci/devices/0000:01:00.0/numa_node\n",
      "Your kernel may have been built without NUMA support.\n",
      "2022-11-07 15:55:41.460771: I tensorflow/stream_executor/cuda/cuda_gpu_executor.cc:966] could not open file to read NUMA node: /sys/bus/pci/devices/0000:01:00.0/numa_node\n",
      "Your kernel may have been built without NUMA support.\n",
      "2022-11-07 15:55:41.460812: I tensorflow/core/common_runtime/gpu/gpu_device.cc:1700] Could not identify NUMA node of platform GPU id 0, defaulting to 0.  Your kernel may not have been built with NUMA support.\n",
      "2022-11-07 15:55:41.461612: I tensorflow/stream_executor/cuda/cuda_gpu_executor.cc:966] could not open file to read NUMA node: /sys/bus/pci/devices/0000:01:00.0/numa_node\n",
      "Your kernel may have been built without NUMA support.\n",
      "2022-11-07 15:55:41.461892: I tensorflow/core/common_runtime/gpu/gpu_device.cc:1616] Created device /job:localhost/replica:0/task:0/device:GPU:0 with 2097 MB memory:  -> device: 0, name: NVIDIA GeForce GTX 1650, pci bus id: 0000:01:00.0, compute capability: 7.5\n"
     ]
    }
   ],
   "source": [
    "# When loading the model\n",
    "model = tf.saved_model.load('../model/model_test_2') "
   ]
  },
  {
   "cell_type": "code",
   "execution_count": null,
   "metadata": {},
   "outputs": [],
   "source": [
    "model = Combined()"
   ]
  },
  {
   "cell_type": "code",
   "execution_count": 4,
   "metadata": {},
   "outputs": [],
   "source": [
    "\n",
    "bce = tf.keras.losses.BinaryCrossentropy()\n",
    "opt = tf.keras.optimizers.Adam()"
   ]
  },
  {
   "cell_type": "code",
   "execution_count": 5,
   "metadata": {},
   "outputs": [],
   "source": [
    "def train(model, x, y, opt):\n",
    "    with tf.GradientTape() as tape:\n",
    "        loss = bce(y, model(x))\n",
    "    \n",
    "    deriv = tape.gradient(loss, model.trainable_variables)\n",
    "\n",
    "    opt.apply_gradients(zip(deriv, model.trainable_variables))"
   ]
  },
  {
   "cell_type": "code",
   "execution_count": 6,
   "metadata": {},
   "outputs": [],
   "source": [
    "l = []\n",
    "for i in range(35500, 36500):\n",
    "    l.append(i)"
   ]
  },
  {
   "cell_type": "code",
   "execution_count": 7,
   "metadata": {},
   "outputs": [],
   "source": [
    "import random"
   ]
  },
  {
   "cell_type": "code",
   "execution_count": 8,
   "metadata": {},
   "outputs": [],
   "source": [
    "random.shuffle(l)"
   ]
  },
  {
   "cell_type": "code",
   "execution_count": 9,
   "metadata": {},
   "outputs": [
    {
     "data": {
      "text/plain": [
       "1000"
      ]
     },
     "execution_count": 9,
     "metadata": {},
     "output_type": "execute_result"
    }
   ],
   "source": [
    "len(l)"
   ]
  },
  {
   "cell_type": "code",
   "execution_count": 10,
   "metadata": {},
   "outputs": [
    {
     "name": "stderr",
     "output_type": "stream",
     "text": [
      "  0%|          | 0/1000 [00:04<?, ?it/s]\n"
     ]
    },
    {
     "ename": "ValueError",
     "evalue": "Found zero restored functions for caller function.",
     "output_type": "error",
     "traceback": [
      "\u001b[0;31m---------------------------------------------------------------------------\u001b[0m",
      "\u001b[0;31mValueError\u001b[0m                                Traceback (most recent call last)",
      "\u001b[1;32m/root/major_project/project/major_project/src/model_test.ipynb Cell 10\u001b[0m in \u001b[0;36m<cell line: 1>\u001b[0;34m()\u001b[0m\n\u001b[1;32m      <a href='vscode-notebook-cell://wsl%2Bubuntu/root/major_project/project/major_project/src/model_test.ipynb#X10sdnNjb2RlLXJlbW90ZQ%3D%3D?line=0'>1</a>\u001b[0m \u001b[39mfor\u001b[39;00m i \u001b[39min\u001b[39;00m tqdm(l):\n\u001b[0;32m----> <a href='vscode-notebook-cell://wsl%2Bubuntu/root/major_project/project/major_project/src/model_test.ipynb#X10sdnNjb2RlLXJlbW90ZQ%3D%3D?line=1'>2</a>\u001b[0m     train(model, tf\u001b[39m.\u001b[39;49mconstant(generate_embedding(i), shape \u001b[39m=\u001b[39;49m (\u001b[39m1\u001b[39;49m, \u001b[39m309\u001b[39;49m, \u001b[39m300\u001b[39;49m)), tf\u001b[39m.\u001b[39;49mconstant(data_df[\u001b[39m'\u001b[39;49m\u001b[39mclassification\u001b[39;49m\u001b[39m'\u001b[39;49m][i], shape \u001b[39m=\u001b[39;49m (\u001b[39m1\u001b[39;49m, \u001b[39m1\u001b[39;49m)), opt)\n",
      "\u001b[1;32m/root/major_project/project/major_project/src/model_test.ipynb Cell 10\u001b[0m in \u001b[0;36mtrain\u001b[0;34m(model, x, y, opt)\u001b[0m\n\u001b[1;32m      <a href='vscode-notebook-cell://wsl%2Bubuntu/root/major_project/project/major_project/src/model_test.ipynb#X10sdnNjb2RlLXJlbW90ZQ%3D%3D?line=0'>1</a>\u001b[0m \u001b[39mdef\u001b[39;00m \u001b[39mtrain\u001b[39m(model, x, y, opt):\n\u001b[1;32m      <a href='vscode-notebook-cell://wsl%2Bubuntu/root/major_project/project/major_project/src/model_test.ipynb#X10sdnNjb2RlLXJlbW90ZQ%3D%3D?line=1'>2</a>\u001b[0m     \u001b[39mwith\u001b[39;00m tf\u001b[39m.\u001b[39mGradientTape() \u001b[39mas\u001b[39;00m tape:\n\u001b[0;32m----> <a href='vscode-notebook-cell://wsl%2Bubuntu/root/major_project/project/major_project/src/model_test.ipynb#X10sdnNjb2RlLXJlbW90ZQ%3D%3D?line=2'>3</a>\u001b[0m         loss \u001b[39m=\u001b[39m bce(y, model(x))\n\u001b[1;32m      <a href='vscode-notebook-cell://wsl%2Bubuntu/root/major_project/project/major_project/src/model_test.ipynb#X10sdnNjb2RlLXJlbW90ZQ%3D%3D?line=4'>5</a>\u001b[0m     deriv \u001b[39m=\u001b[39m tape\u001b[39m.\u001b[39mgradient(loss, model\u001b[39m.\u001b[39mtrainable_variables)\n\u001b[1;32m      <a href='vscode-notebook-cell://wsl%2Bubuntu/root/major_project/project/major_project/src/model_test.ipynb#X10sdnNjb2RlLXJlbW90ZQ%3D%3D?line=6'>7</a>\u001b[0m     opt\u001b[39m.\u001b[39mapply_gradients(\u001b[39mzip\u001b[39m(deriv, model\u001b[39m.\u001b[39mtrainable_variables))\n",
      "File \u001b[0;32m~/miniconda3/envs/mp/lib/python3.9/site-packages/tensorflow/python/saved_model/load.py:704\u001b[0m, in \u001b[0;36m_call_attribute\u001b[0;34m(instance, *args, **kwargs)\u001b[0m\n\u001b[1;32m    703\u001b[0m \u001b[39mdef\u001b[39;00m \u001b[39m_call_attribute\u001b[39m(instance, \u001b[39m*\u001b[39margs, \u001b[39m*\u001b[39m\u001b[39m*\u001b[39mkwargs):\n\u001b[0;32m--> 704\u001b[0m   \u001b[39mreturn\u001b[39;00m instance\u001b[39m.\u001b[39;49m\u001b[39m__call__\u001b[39;49m(\u001b[39m*\u001b[39;49margs, \u001b[39m*\u001b[39;49m\u001b[39m*\u001b[39;49mkwargs)\n",
      "File \u001b[0;32m~/miniconda3/envs/mp/lib/python3.9/site-packages/tensorflow/python/util/traceback_utils.py:153\u001b[0m, in \u001b[0;36mfilter_traceback.<locals>.error_handler\u001b[0;34m(*args, **kwargs)\u001b[0m\n\u001b[1;32m    151\u001b[0m \u001b[39mexcept\u001b[39;00m \u001b[39mException\u001b[39;00m \u001b[39mas\u001b[39;00m e:\n\u001b[1;32m    152\u001b[0m   filtered_tb \u001b[39m=\u001b[39m _process_traceback_frames(e\u001b[39m.\u001b[39m__traceback__)\n\u001b[0;32m--> 153\u001b[0m   \u001b[39mraise\u001b[39;00m e\u001b[39m.\u001b[39mwith_traceback(filtered_tb) \u001b[39mfrom\u001b[39;00m \u001b[39mNone\u001b[39m\n\u001b[1;32m    154\u001b[0m \u001b[39mfinally\u001b[39;00m:\n\u001b[1;32m    155\u001b[0m   \u001b[39mdel\u001b[39;00m filtered_tb\n",
      "File \u001b[0;32m~/miniconda3/envs/mp/lib/python3.9/site-packages/tensorflow/python/saved_model/function_deserialization.py:261\u001b[0m, in \u001b[0;36mrecreate_function.<locals>.restored_function_body\u001b[0;34m(*args, **kwargs)\u001b[0m\n\u001b[1;32m    259\u001b[0m \u001b[39m\"\"\"Calls a restored function or raises an error if no matching function.\"\"\"\u001b[39;00m\n\u001b[1;32m    260\u001b[0m \u001b[39mif\u001b[39;00m \u001b[39mnot\u001b[39;00m saved_function\u001b[39m.\u001b[39mconcrete_functions:\n\u001b[0;32m--> 261\u001b[0m   \u001b[39mraise\u001b[39;00m \u001b[39mValueError\u001b[39;00m(\u001b[39m\"\u001b[39m\u001b[39mFound zero restored functions for caller function.\u001b[39m\u001b[39m\"\u001b[39m)\n\u001b[1;32m    262\u001b[0m \u001b[39m# This is the format of function.graph.structured_input_signature. At this\u001b[39;00m\n\u001b[1;32m    263\u001b[0m \u001b[39m# point, the args and kwargs have already been canonicalized.\u001b[39;00m\n\u001b[1;32m    264\u001b[0m inputs \u001b[39m=\u001b[39m (args, kwargs)\n",
      "\u001b[0;31mValueError\u001b[0m: Found zero restored functions for caller function."
     ]
    }
   ],
   "source": [
    "for i in tqdm(l):\n",
    "    train(model, tf.constant(generate_embedding(i), shape = (1, 309, 300)), tf.constant(data_df['classification'][i], shape = (1, 1)), opt)"
   ]
  },
  {
   "cell_type": "code",
   "execution_count": 12,
   "metadata": {},
   "outputs": [
    {
     "ename": "AttributeError",
     "evalue": "'_UserObject' object has no attribute 'summary'",
     "output_type": "error",
     "traceback": [
      "\u001b[0;31m---------------------------------------------------------------------------\u001b[0m",
      "\u001b[0;31mAttributeError\u001b[0m                            Traceback (most recent call last)",
      "\u001b[1;32m/root/major_project/project/major_project/src/model_test.ipynb Cell 11\u001b[0m in \u001b[0;36m<cell line: 1>\u001b[0;34m()\u001b[0m\n\u001b[0;32m----> <a href='vscode-notebook-cell://wsl%2Bubuntu/root/major_project/project/major_project/src/model_test.ipynb#X30sdnNjb2RlLXJlbW90ZQ%3D%3D?line=0'>1</a>\u001b[0m model\u001b[39m.\u001b[39;49msummary()\n",
      "\u001b[0;31mAttributeError\u001b[0m: '_UserObject' object has no attribute 'summary'"
     ]
    }
   ],
   "source": [
    "model.summary()"
   ]
  },
  {
   "cell_type": "code",
   "execution_count": 11,
   "metadata": {},
   "outputs": [
    {
     "ename": "ValueError",
     "evalue": "Found zero restored functions for caller function.",
     "output_type": "error",
     "traceback": [
      "\u001b[0;31m---------------------------------------------------------------------------\u001b[0m",
      "\u001b[0;31mValueError\u001b[0m                                Traceback (most recent call last)",
      "\u001b[1;32m/root/major_project/project/major_project/src/model_test.ipynb Cell 11\u001b[0m in \u001b[0;36m<cell line: 1>\u001b[0;34m()\u001b[0m\n\u001b[0;32m----> <a href='vscode-notebook-cell://wsl%2Bubuntu/root/major_project/project/major_project/src/model_test.ipynb#X26sdnNjb2RlLXJlbW90ZQ%3D%3D?line=0'>1</a>\u001b[0m pred \u001b[39m=\u001b[39m model(tf\u001b[39m.\u001b[39;49mconstant(generate_embedding(\u001b[39m36010\u001b[39;49m)), shape \u001b[39m=\u001b[39;49m (\u001b[39m1\u001b[39;49m, \u001b[39m309\u001b[39;49m, \u001b[39m300\u001b[39;49m))\n",
      "File \u001b[0;32m~/miniconda3/envs/mp/lib/python3.9/site-packages/tensorflow/python/saved_model/load.py:704\u001b[0m, in \u001b[0;36m_call_attribute\u001b[0;34m(instance, *args, **kwargs)\u001b[0m\n\u001b[1;32m    703\u001b[0m \u001b[39mdef\u001b[39;00m \u001b[39m_call_attribute\u001b[39m(instance, \u001b[39m*\u001b[39margs, \u001b[39m*\u001b[39m\u001b[39m*\u001b[39mkwargs):\n\u001b[0;32m--> 704\u001b[0m   \u001b[39mreturn\u001b[39;00m instance\u001b[39m.\u001b[39;49m\u001b[39m__call__\u001b[39;49m(\u001b[39m*\u001b[39;49margs, \u001b[39m*\u001b[39;49m\u001b[39m*\u001b[39;49mkwargs)\n",
      "File \u001b[0;32m~/miniconda3/envs/mp/lib/python3.9/site-packages/tensorflow/python/util/traceback_utils.py:153\u001b[0m, in \u001b[0;36mfilter_traceback.<locals>.error_handler\u001b[0;34m(*args, **kwargs)\u001b[0m\n\u001b[1;32m    151\u001b[0m \u001b[39mexcept\u001b[39;00m \u001b[39mException\u001b[39;00m \u001b[39mas\u001b[39;00m e:\n\u001b[1;32m    152\u001b[0m   filtered_tb \u001b[39m=\u001b[39m _process_traceback_frames(e\u001b[39m.\u001b[39m__traceback__)\n\u001b[0;32m--> 153\u001b[0m   \u001b[39mraise\u001b[39;00m e\u001b[39m.\u001b[39mwith_traceback(filtered_tb) \u001b[39mfrom\u001b[39;00m \u001b[39mNone\u001b[39m\n\u001b[1;32m    154\u001b[0m \u001b[39mfinally\u001b[39;00m:\n\u001b[1;32m    155\u001b[0m   \u001b[39mdel\u001b[39;00m filtered_tb\n",
      "File \u001b[0;32m~/miniconda3/envs/mp/lib/python3.9/site-packages/tensorflow/python/saved_model/function_deserialization.py:261\u001b[0m, in \u001b[0;36mrecreate_function.<locals>.restored_function_body\u001b[0;34m(*args, **kwargs)\u001b[0m\n\u001b[1;32m    259\u001b[0m \u001b[39m\"\"\"Calls a restored function or raises an error if no matching function.\"\"\"\u001b[39;00m\n\u001b[1;32m    260\u001b[0m \u001b[39mif\u001b[39;00m \u001b[39mnot\u001b[39;00m saved_function\u001b[39m.\u001b[39mconcrete_functions:\n\u001b[0;32m--> 261\u001b[0m   \u001b[39mraise\u001b[39;00m \u001b[39mValueError\u001b[39;00m(\u001b[39m\"\u001b[39m\u001b[39mFound zero restored functions for caller function.\u001b[39m\u001b[39m\"\u001b[39m)\n\u001b[1;32m    262\u001b[0m \u001b[39m# This is the format of function.graph.structured_input_signature. At this\u001b[39;00m\n\u001b[1;32m    263\u001b[0m \u001b[39m# point, the args and kwargs have already been canonicalized.\u001b[39;00m\n\u001b[1;32m    264\u001b[0m inputs \u001b[39m=\u001b[39m (args, kwargs)\n",
      "\u001b[0;31mValueError\u001b[0m: Found zero restored functions for caller function."
     ]
    }
   ],
   "source": [
    "pred = model(tf.constant(generate_embedding(36010)), shape = (1, 309, 300))"
   ]
  },
  {
   "cell_type": "code",
   "execution_count": 19,
   "metadata": {},
   "outputs": [],
   "source": [
    "count = 0"
   ]
  },
  {
   "cell_type": "code",
   "execution_count": 20,
   "metadata": {},
   "outputs": [
    {
     "name": "stderr",
     "output_type": "stream",
     "text": [
      "100%|██████████| 1000/1000 [05:28<00:00,  3.05it/s]\n"
     ]
    }
   ],
   "source": [
    "for i in tqdm(l):\n",
    "    pred = model(tf.constant(generate_embedding(i), shape = (1, 309, 300)))\n",
    "    if pred <= 0.5:\n",
    "        pred = 0\n",
    "    else:\n",
    "        pred = 1\n",
    "    if data_df['classification'][i] == pred:\n",
    "        count += 1\n",
    "    "
   ]
  },
  {
   "cell_type": "code",
   "execution_count": 21,
   "metadata": {},
   "outputs": [
    {
     "data": {
      "text/plain": [
       "734"
      ]
     },
     "execution_count": 21,
     "metadata": {},
     "output_type": "execute_result"
    }
   ],
   "source": [
    "count    "
   ]
  },
  {
   "cell_type": "code",
   "execution_count": 22,
   "metadata": {},
   "outputs": [
    {
     "name": "stderr",
     "output_type": "stream",
     "text": [
      "WARNING:absl:Found untraced functions such as combined_1_layer_call_fn, combined_1_layer_call_and_return_conditional_losses, cnn_1_layer_call_fn, cnn_1_layer_call_and_return_conditional_losses, rnn_1_layer_call_fn while saving (showing 5 of 16). These functions will not be directly callable after loading.\n",
      "Exception ignored in: <function tqdm.__del__ at 0x7efc552baa60>\n",
      "Traceback (most recent call last):\n",
      "  File \"/root/miniconda3/envs/mp/lib/python3.9/site-packages/tqdm/std.py\", line 1162, in __del__\n",
      "    self.close()\n",
      "  File \"/root/miniconda3/envs/mp/lib/python3.9/site-packages/tqdm/std.py\", line 1291, in close\n",
      "    if self.last_print_t < self.start_t + self.delay:\n",
      "AttributeError: 'tqdm' object has no attribute 'last_print_t'\n"
     ]
    },
    {
     "name": "stdout",
     "output_type": "stream",
     "text": [
      "INFO:tensorflow:Assets written to: ../model/model_test_2/assets\n"
     ]
    },
    {
     "name": "stderr",
     "output_type": "stream",
     "text": [
      "INFO:tensorflow:Assets written to: ../model/model_test_2/assets\n"
     ]
    }
   ],
   "source": [
    "tf.saved_model.save(model, \"../model/model_test_2\")"
   ]
  },
  {
   "cell_type": "code",
   "execution_count": 23,
   "metadata": {},
   "outputs": [],
   "source": [
    "l.clear()"
   ]
  },
  {
   "cell_type": "code",
   "execution_count": 24,
   "metadata": {},
   "outputs": [],
   "source": [
    "for i in range(35400, 35500):\n",
    "    l.append(i)\n",
    "\n",
    "for i in range(36500, 36550):\n",
    "    l.append(i)"
   ]
  },
  {
   "cell_type": "code",
   "execution_count": 25,
   "metadata": {},
   "outputs": [
    {
     "data": {
      "text/plain": [
       "[35400,\n",
       " 35401,\n",
       " 35402,\n",
       " 35403,\n",
       " 35404,\n",
       " 35405,\n",
       " 35406,\n",
       " 35407,\n",
       " 35408,\n",
       " 35409,\n",
       " 35410,\n",
       " 35411,\n",
       " 35412,\n",
       " 35413,\n",
       " 35414,\n",
       " 35415,\n",
       " 35416,\n",
       " 35417,\n",
       " 35418,\n",
       " 35419,\n",
       " 35420,\n",
       " 35421,\n",
       " 35422,\n",
       " 35423,\n",
       " 35424,\n",
       " 35425,\n",
       " 35426,\n",
       " 35427,\n",
       " 35428,\n",
       " 35429,\n",
       " 35430,\n",
       " 35431,\n",
       " 35432,\n",
       " 35433,\n",
       " 35434,\n",
       " 35435,\n",
       " 35436,\n",
       " 35437,\n",
       " 35438,\n",
       " 35439,\n",
       " 35440,\n",
       " 35441,\n",
       " 35442,\n",
       " 35443,\n",
       " 35444,\n",
       " 35445,\n",
       " 35446,\n",
       " 35447,\n",
       " 35448,\n",
       " 35449,\n",
       " 35450,\n",
       " 35451,\n",
       " 35452,\n",
       " 35453,\n",
       " 35454,\n",
       " 35455,\n",
       " 35456,\n",
       " 35457,\n",
       " 35458,\n",
       " 35459,\n",
       " 35460,\n",
       " 35461,\n",
       " 35462,\n",
       " 35463,\n",
       " 35464,\n",
       " 35465,\n",
       " 35466,\n",
       " 35467,\n",
       " 35468,\n",
       " 35469,\n",
       " 35470,\n",
       " 35471,\n",
       " 35472,\n",
       " 35473,\n",
       " 35474,\n",
       " 35475,\n",
       " 35476,\n",
       " 35477,\n",
       " 35478,\n",
       " 35479,\n",
       " 35480,\n",
       " 35481,\n",
       " 35482,\n",
       " 35483,\n",
       " 35484,\n",
       " 35485,\n",
       " 35486,\n",
       " 35487,\n",
       " 35488,\n",
       " 35489,\n",
       " 35490,\n",
       " 35491,\n",
       " 35492,\n",
       " 35493,\n",
       " 35494,\n",
       " 35495,\n",
       " 35496,\n",
       " 35497,\n",
       " 35498,\n",
       " 35499,\n",
       " 36500,\n",
       " 36501,\n",
       " 36502,\n",
       " 36503,\n",
       " 36504,\n",
       " 36505,\n",
       " 36506,\n",
       " 36507,\n",
       " 36508,\n",
       " 36509,\n",
       " 36510,\n",
       " 36511,\n",
       " 36512,\n",
       " 36513,\n",
       " 36514,\n",
       " 36515,\n",
       " 36516,\n",
       " 36517,\n",
       " 36518,\n",
       " 36519,\n",
       " 36520,\n",
       " 36521,\n",
       " 36522,\n",
       " 36523,\n",
       " 36524,\n",
       " 36525,\n",
       " 36526,\n",
       " 36527,\n",
       " 36528,\n",
       " 36529,\n",
       " 36530,\n",
       " 36531,\n",
       " 36532,\n",
       " 36533,\n",
       " 36534,\n",
       " 36535,\n",
       " 36536,\n",
       " 36537,\n",
       " 36538,\n",
       " 36539,\n",
       " 36540,\n",
       " 36541,\n",
       " 36542,\n",
       " 36543,\n",
       " 36544,\n",
       " 36545,\n",
       " 36546,\n",
       " 36547,\n",
       " 36548,\n",
       " 36549]"
      ]
     },
     "execution_count": 25,
     "metadata": {},
     "output_type": "execute_result"
    }
   ],
   "source": [
    "l"
   ]
  },
  {
   "cell_type": "code",
   "execution_count": 27,
   "metadata": {},
   "outputs": [],
   "source": [
    "count2 = 0"
   ]
  },
  {
   "cell_type": "code",
   "execution_count": 28,
   "metadata": {},
   "outputs": [
    {
     "name": "stderr",
     "output_type": "stream",
     "text": [
      "100%|██████████| 150/150 [00:53<00:00,  2.79it/s]\n"
     ]
    }
   ],
   "source": [
    "for i in tqdm(l):\n",
    "    pred = model(tf.constant(generate_embedding(i), shape = (1, 309, 300)))\n",
    "    if pred <= 0.5:\n",
    "        pred = 0\n",
    "    else:\n",
    "        pred = 1\n",
    "    if data_df['classification'][i] == pred:\n",
    "        count2 += 1"
   ]
  },
  {
   "cell_type": "code",
   "execution_count": 29,
   "metadata": {},
   "outputs": [
    {
     "data": {
      "text/plain": [
       "0.6533333333333333"
      ]
     },
     "execution_count": 29,
     "metadata": {},
     "output_type": "execute_result"
    }
   ],
   "source": [
    "count2 / len(l)"
   ]
  }
 ],
 "metadata": {
  "kernelspec": {
   "display_name": "Python 3.9.13 ('mp')",
   "language": "python",
   "name": "python3"
  },
  "language_info": {
   "codemirror_mode": {
    "name": "ipython",
    "version": 3
   },
   "file_extension": ".py",
   "mimetype": "text/x-python",
   "name": "python",
   "nbconvert_exporter": "python",
   "pygments_lexer": "ipython3",
   "version": "3.9.13"
  },
  "orig_nbformat": 4,
  "vscode": {
   "interpreter": {
    "hash": "3b2f0d05c80380c0ab207ce690e1c64c7459e4e094c973e076c3ab9adb08e8c1"
   }
  }
 },
 "nbformat": 4,
 "nbformat_minor": 2
}
